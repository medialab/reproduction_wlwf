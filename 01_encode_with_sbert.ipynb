{
 "cells": [
  {
   "cell_type": "code",
   "execution_count": null,
   "id": "37abfb65-ec83-4201-a44b-3a0ec22ca6bb",
   "metadata": {},
   "outputs": [],
   "source": [
    "from tqdm import tqdm\n",
    "import glob\n",
    "import os\n",
    "import sys\n",
    "import argparse\n",
    "import numpy as np\n",
    "from sentence_transformers import SentenceTransformer\n",
    "\n",
    "from utils import (\n",
    "    SBERT_NAME,\n",
    "    count_nb_files,\n",
    "    preprocess,\n",
    "    existing_dir_path,\n",
    "    create_dir,\n",
    "    load_embeddings,\n",
    "    DEFAULT_SAVE_SIZE,\n",
    "    EMB_DIMENSION\n",
    ")\n",
    "\n",
    "\n",
    "batch_size = 10\n",
    "class Args:\n",
    "    def __init__(self, input_path, output_folder):\n",
    "        self.input_path = input_path\n",
    "        self.output_folder = output_folder\n",
    "        self.save_size = 100"
   ]
  },
  {
   "cell_type": "code",
   "execution_count": null,
   "id": "6287277c-cc17-4517-9cf7-7e86e091f674",
   "metadata": {},
   "outputs": [],
   "source": [
    "args = Args(\n",
    "    \"medialab_data/tweets_from_deputesXVI_220617-230717\", \n",
    "    \"data_prod/embeddings/deputes\")"
   ]
  },
  {
   "cell_type": "code",
   "execution_count": null,
   "id": "c067f6dc-fa6c-44c6-9e6a-232145253469",
   "metadata": {},
   "outputs": [],
   "source": [
    "docs = np.array(\n",
    "    [doc for doc in preprocess(args.input_path, count_nb_files(args.input_path), apply_unidecode=True)]\n",
    ")"
   ]
  },
  {
   "cell_type": "code",
   "execution_count": null,
   "id": "94b2d07e-44fa-4bb4-a1e7-e18d991951a7",
   "metadata": {},
   "outputs": [],
   "source": [
    "embeddings = np.zeros((len(docs), EMB_DIMENSION))\n",
    "max_index = 0"
   ]
  },
  {
   "cell_type": "code",
   "execution_count": null,
   "id": "3c5ec517-0931-4bff-8363-9903e4582ffc",
   "metadata": {},
   "outputs": [],
   "source": [
    "embedding_model = SentenceTransformer(SBERT_NAME)\n",
    "SAVE_PATH = os.path.join(args.output_folder, \"tweets_sentence-camembert-large.npz\")"
   ]
  },
  {
   "cell_type": "code",
   "execution_count": null,
   "id": "a68b300c-d517-4928-8af7-2a491ae4c2db",
   "metadata": {},
   "outputs": [],
   "source": [
    "def format_output(size):\n",
    "    return SAVE_PATH.replace(\".npz\", \"_\" + str(size) + \".npz\")"
   ]
  },
  {
   "cell_type": "code",
   "execution_count": null,
   "id": "f2470577-7358-48a0-84d9-fd64efecfd53",
   "metadata": {},
   "outputs": [],
   "source": [
    "for i in tqdm(\n",
    "    range(max_index, len(docs), batch_size),\n",
    "    desc=\"Encode sentences using CamemBERT large\",\n",
    "):\n",
    "    if i % args.save_size == 0 and i > 0:\n",
    "        np.savez_compressed(\n",
    "            format_output(i),\n",
    "            embeddings=embeddings[i - args.save_size : i],\n",
    "        )\n",
    "    embeddings[i : min(len(docs), i + batch_size)] = embedding_model.encode(\n",
    "        docs[i : i + batch_size]\n",
    "    )\n",
    "\n",
    "np.savez_compressed(\n",
    "    format_output(len(docs)),\n",
    "    embeddings=embeddings[len(docs) - (len(docs) % args.save_size) :],\n",
    ")"
   ]
  },
  {
   "cell_type": "code",
   "execution_count": null,
   "id": "c477886a-277b-4e34-b333-8242fcbb63c2",
   "metadata": {},
   "outputs": [],
   "source": []
  }
 ],
 "metadata": {
  "kernelspec": {
   "display_name": "Python 3 (ipykernel)",
   "language": "python",
   "name": "python3"
  },
  "language_info": {
   "codemirror_mode": {
    "name": "ipython",
    "version": 3
   },
   "file_extension": ".py",
   "mimetype": "text/x-python",
   "name": "python",
   "nbconvert_exporter": "python",
   "pygments_lexer": "ipython3",
   "version": "3.8.2"
  }
 },
 "nbformat": 4,
 "nbformat_minor": 5
}
